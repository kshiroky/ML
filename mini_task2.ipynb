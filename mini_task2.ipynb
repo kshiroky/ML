{
  "cells": [
    {
      "cell_type": "markdown",
      "metadata": {
        "id": "view-in-github",
        "colab_type": "text"
      },
      "source": [
        "<a href=\"https://colab.research.google.com/github/kshiroky/ML/blob/main/mini_task2.ipynb\" target=\"_parent\"><img src=\"https://colab.research.google.com/assets/colab-badge.svg\" alt=\"Open In Colab\"/></a>"
      ]
    },
    {
      "cell_type": "code",
      "execution_count": null,
      "metadata": {
        "colab": {
          "base_uri": "https://localhost:8080/"
        },
        "id": "P8-bA6KwsEfn",
        "outputId": "981bafe7-4c2e-41c2-fd95-9866aff6d1cc"
      },
      "outputs": [
        {
          "output_type": "stream",
          "name": "stdout",
          "text": [
            "Mounted at /content/drive\n"
          ]
        }
      ],
      "source": [
        "from ast import literal_eval\n",
        "import sys\n",
        "import requests\n",
        "import pandas as pd\n",
        "import warnings\n",
        "from google.colab import drive\n",
        "drive.mount('/content/drive')"
      ]
    },
    {
      "cell_type": "code",
      "execution_count": null,
      "metadata": {
        "id": "Rqauf16KsMUi",
        "colab": {
          "base_uri": "https://localhost:8080/",
          "height": 574
        },
        "outputId": "acd8da35-759e-4124-d220-3c09ace2cd5d"
      },
      "outputs": [
        {
          "output_type": "execute_result",
          "data": {
            "text/plain": [
              "      formula    activity surface       Km            Kcat    Vmax  Syngony  \\\n",
              "0     CoFe2O4  peroxidase   naked  0.00645  12 306.4508003  1.3763      7.0   \n",
              "1     CoFe2O4  peroxidase   naked  0.05537   2 363.2892149  0.2643      7.0   \n",
              "2     CoFe2O4  peroxidase   naked  0.03551  74 779.3708079  8.3630      7.0   \n",
              "3     CoFe2O4  peroxidase   naked  0.22769   3 918.2494665  0.4382      7.0   \n",
              "4     CoFe2O4  peroxidase   naked  0.01725   9 184.9060976  1.0272      7.0   \n",
              "...       ...         ...     ...      ...             ...     ...      ...   \n",
              "1026      NaN         NaN     NaN      NaN             NaN     NaN      NaN   \n",
              "1027      NaN         NaN     NaN      NaN             NaN     NaN      NaN   \n",
              "1028      NaN         NaN     NaN      NaN             NaN     NaN      NaN   \n",
              "1029      NaN         NaN     NaN      NaN             NaN     NaN      NaN   \n",
              "1030      NaN         NaN     NaN      NaN             NaN     NaN      NaN   \n",
              "\n",
              "      length  width  depth  ...  temp   Cper  Csub     Ccat  Dstr    mX  \\\n",
              "0        4.1    4.1    4.1  ...  37.0  100.0  15.0  0.02624   3.0  2.77   \n",
              "1       13.8   13.8   13.8  ...  37.0  100.0  15.0  0.02624   3.0  2.77   \n",
              "2        4.1    4.1    4.1  ...  37.0  100.0  15.0  0.02624   3.0  2.77   \n",
              "3       13.8   13.8   13.8  ...  37.0  100.0  15.0  0.02624   3.0  2.77   \n",
              "4       24.5   24.5   24.5  ...  37.0  100.0  15.0  0.02624   3.0  2.77   \n",
              "...      ...    ...    ...  ...   ...    ...   ...      ...   ...   ...   \n",
              "1026     NaN    NaN    NaN  ...   NaN    NaN   NaN      NaN   NaN   NaN   \n",
              "1027     NaN    NaN    NaN  ...   NaN    NaN   NaN      NaN   NaN   NaN   \n",
              "1028     NaN    NaN    NaN  ...   NaN    NaN   NaN      NaN   NaN   NaN   \n",
              "1029     NaN    NaN    NaN  ...   NaN    NaN   NaN      NaN   NaN   NaN   \n",
              "1030     NaN    NaN    NaN  ...   NaN    NaN   NaN      NaN   NaN   NaN   \n",
              "\n",
              "        mROx     mCD    volume                                link  \n",
              "0    -0.1585  0.0304     68.92  https://doi.org/10.1039/C4RA15675G  \n",
              "1    -0.1585  0.0304   2628.07  https://doi.org/10.1039/C4RA15675G  \n",
              "2    -0.1585  0.0304     68.92  https://doi.org/10.1039/C4RA15675G  \n",
              "3    -0.1585  0.0304   2628.07  https://doi.org/10.1039/C4RA15675G  \n",
              "4    -0.1585  0.0304  14706.13  https://doi.org/10.1039/C4RA15675G  \n",
              "...      ...     ...       ...                                 ...  \n",
              "1026     NaN     NaN       NaN                                 NaN  \n",
              "1027     NaN     NaN       NaN                                 NaN  \n",
              "1028     NaN     NaN       NaN                                 NaN  \n",
              "1029     NaN     NaN       NaN                                 NaN  \n",
              "1030     NaN     NaN       NaN                                 NaN  \n",
              "\n",
              "[1031 rows x 24 columns]"
            ],
            "text/html": [
              "\n",
              "  <div id=\"df-c7ddeaf6-ff82-43b1-8a1c-63ae13a5ee45\">\n",
              "    <div class=\"colab-df-container\">\n",
              "      <div>\n",
              "<style scoped>\n",
              "    .dataframe tbody tr th:only-of-type {\n",
              "        vertical-align: middle;\n",
              "    }\n",
              "\n",
              "    .dataframe tbody tr th {\n",
              "        vertical-align: top;\n",
              "    }\n",
              "\n",
              "    .dataframe thead th {\n",
              "        text-align: right;\n",
              "    }\n",
              "</style>\n",
              "<table border=\"1\" class=\"dataframe\">\n",
              "  <thead>\n",
              "    <tr style=\"text-align: right;\">\n",
              "      <th></th>\n",
              "      <th>formula</th>\n",
              "      <th>activity</th>\n",
              "      <th>surface</th>\n",
              "      <th>Km</th>\n",
              "      <th>Kcat</th>\n",
              "      <th>Vmax</th>\n",
              "      <th>Syngony</th>\n",
              "      <th>length</th>\n",
              "      <th>width</th>\n",
              "      <th>depth</th>\n",
              "      <th>...</th>\n",
              "      <th>temp</th>\n",
              "      <th>Cper</th>\n",
              "      <th>Csub</th>\n",
              "      <th>Ccat</th>\n",
              "      <th>Dstr</th>\n",
              "      <th>mX</th>\n",
              "      <th>mROx</th>\n",
              "      <th>mCD</th>\n",
              "      <th>volume</th>\n",
              "      <th>link</th>\n",
              "    </tr>\n",
              "  </thead>\n",
              "  <tbody>\n",
              "    <tr>\n",
              "      <th>0</th>\n",
              "      <td>CoFe2O4</td>\n",
              "      <td>peroxidase</td>\n",
              "      <td>naked</td>\n",
              "      <td>0.00645</td>\n",
              "      <td>12 306.4508003</td>\n",
              "      <td>1.3763</td>\n",
              "      <td>7.0</td>\n",
              "      <td>4.1</td>\n",
              "      <td>4.1</td>\n",
              "      <td>4.1</td>\n",
              "      <td>...</td>\n",
              "      <td>37.0</td>\n",
              "      <td>100.0</td>\n",
              "      <td>15.0</td>\n",
              "      <td>0.02624</td>\n",
              "      <td>3.0</td>\n",
              "      <td>2.77</td>\n",
              "      <td>-0.1585</td>\n",
              "      <td>0.0304</td>\n",
              "      <td>68.92</td>\n",
              "      <td>https://doi.org/10.1039/C4RA15675G</td>\n",
              "    </tr>\n",
              "    <tr>\n",
              "      <th>1</th>\n",
              "      <td>CoFe2O4</td>\n",
              "      <td>peroxidase</td>\n",
              "      <td>naked</td>\n",
              "      <td>0.05537</td>\n",
              "      <td>2 363.2892149</td>\n",
              "      <td>0.2643</td>\n",
              "      <td>7.0</td>\n",
              "      <td>13.8</td>\n",
              "      <td>13.8</td>\n",
              "      <td>13.8</td>\n",
              "      <td>...</td>\n",
              "      <td>37.0</td>\n",
              "      <td>100.0</td>\n",
              "      <td>15.0</td>\n",
              "      <td>0.02624</td>\n",
              "      <td>3.0</td>\n",
              "      <td>2.77</td>\n",
              "      <td>-0.1585</td>\n",
              "      <td>0.0304</td>\n",
              "      <td>2628.07</td>\n",
              "      <td>https://doi.org/10.1039/C4RA15675G</td>\n",
              "    </tr>\n",
              "    <tr>\n",
              "      <th>2</th>\n",
              "      <td>CoFe2O4</td>\n",
              "      <td>peroxidase</td>\n",
              "      <td>naked</td>\n",
              "      <td>0.03551</td>\n",
              "      <td>74 779.3708079</td>\n",
              "      <td>8.3630</td>\n",
              "      <td>7.0</td>\n",
              "      <td>4.1</td>\n",
              "      <td>4.1</td>\n",
              "      <td>4.1</td>\n",
              "      <td>...</td>\n",
              "      <td>37.0</td>\n",
              "      <td>100.0</td>\n",
              "      <td>15.0</td>\n",
              "      <td>0.02624</td>\n",
              "      <td>3.0</td>\n",
              "      <td>2.77</td>\n",
              "      <td>-0.1585</td>\n",
              "      <td>0.0304</td>\n",
              "      <td>68.92</td>\n",
              "      <td>https://doi.org/10.1039/C4RA15675G</td>\n",
              "    </tr>\n",
              "    <tr>\n",
              "      <th>3</th>\n",
              "      <td>CoFe2O4</td>\n",
              "      <td>peroxidase</td>\n",
              "      <td>naked</td>\n",
              "      <td>0.22769</td>\n",
              "      <td>3 918.2494665</td>\n",
              "      <td>0.4382</td>\n",
              "      <td>7.0</td>\n",
              "      <td>13.8</td>\n",
              "      <td>13.8</td>\n",
              "      <td>13.8</td>\n",
              "      <td>...</td>\n",
              "      <td>37.0</td>\n",
              "      <td>100.0</td>\n",
              "      <td>15.0</td>\n",
              "      <td>0.02624</td>\n",
              "      <td>3.0</td>\n",
              "      <td>2.77</td>\n",
              "      <td>-0.1585</td>\n",
              "      <td>0.0304</td>\n",
              "      <td>2628.07</td>\n",
              "      <td>https://doi.org/10.1039/C4RA15675G</td>\n",
              "    </tr>\n",
              "    <tr>\n",
              "      <th>4</th>\n",
              "      <td>CoFe2O4</td>\n",
              "      <td>peroxidase</td>\n",
              "      <td>naked</td>\n",
              "      <td>0.01725</td>\n",
              "      <td>9 184.9060976</td>\n",
              "      <td>1.0272</td>\n",
              "      <td>7.0</td>\n",
              "      <td>24.5</td>\n",
              "      <td>24.5</td>\n",
              "      <td>24.5</td>\n",
              "      <td>...</td>\n",
              "      <td>37.0</td>\n",
              "      <td>100.0</td>\n",
              "      <td>15.0</td>\n",
              "      <td>0.02624</td>\n",
              "      <td>3.0</td>\n",
              "      <td>2.77</td>\n",
              "      <td>-0.1585</td>\n",
              "      <td>0.0304</td>\n",
              "      <td>14706.13</td>\n",
              "      <td>https://doi.org/10.1039/C4RA15675G</td>\n",
              "    </tr>\n",
              "    <tr>\n",
              "      <th>...</th>\n",
              "      <td>...</td>\n",
              "      <td>...</td>\n",
              "      <td>...</td>\n",
              "      <td>...</td>\n",
              "      <td>...</td>\n",
              "      <td>...</td>\n",
              "      <td>...</td>\n",
              "      <td>...</td>\n",
              "      <td>...</td>\n",
              "      <td>...</td>\n",
              "      <td>...</td>\n",
              "      <td>...</td>\n",
              "      <td>...</td>\n",
              "      <td>...</td>\n",
              "      <td>...</td>\n",
              "      <td>...</td>\n",
              "      <td>...</td>\n",
              "      <td>...</td>\n",
              "      <td>...</td>\n",
              "      <td>...</td>\n",
              "      <td>...</td>\n",
              "    </tr>\n",
              "    <tr>\n",
              "      <th>1026</th>\n",
              "      <td>NaN</td>\n",
              "      <td>NaN</td>\n",
              "      <td>NaN</td>\n",
              "      <td>NaN</td>\n",
              "      <td>NaN</td>\n",
              "      <td>NaN</td>\n",
              "      <td>NaN</td>\n",
              "      <td>NaN</td>\n",
              "      <td>NaN</td>\n",
              "      <td>NaN</td>\n",
              "      <td>...</td>\n",
              "      <td>NaN</td>\n",
              "      <td>NaN</td>\n",
              "      <td>NaN</td>\n",
              "      <td>NaN</td>\n",
              "      <td>NaN</td>\n",
              "      <td>NaN</td>\n",
              "      <td>NaN</td>\n",
              "      <td>NaN</td>\n",
              "      <td>NaN</td>\n",
              "      <td>NaN</td>\n",
              "    </tr>\n",
              "    <tr>\n",
              "      <th>1027</th>\n",
              "      <td>NaN</td>\n",
              "      <td>NaN</td>\n",
              "      <td>NaN</td>\n",
              "      <td>NaN</td>\n",
              "      <td>NaN</td>\n",
              "      <td>NaN</td>\n",
              "      <td>NaN</td>\n",
              "      <td>NaN</td>\n",
              "      <td>NaN</td>\n",
              "      <td>NaN</td>\n",
              "      <td>...</td>\n",
              "      <td>NaN</td>\n",
              "      <td>NaN</td>\n",
              "      <td>NaN</td>\n",
              "      <td>NaN</td>\n",
              "      <td>NaN</td>\n",
              "      <td>NaN</td>\n",
              "      <td>NaN</td>\n",
              "      <td>NaN</td>\n",
              "      <td>NaN</td>\n",
              "      <td>NaN</td>\n",
              "    </tr>\n",
              "    <tr>\n",
              "      <th>1028</th>\n",
              "      <td>NaN</td>\n",
              "      <td>NaN</td>\n",
              "      <td>NaN</td>\n",
              "      <td>NaN</td>\n",
              "      <td>NaN</td>\n",
              "      <td>NaN</td>\n",
              "      <td>NaN</td>\n",
              "      <td>NaN</td>\n",
              "      <td>NaN</td>\n",
              "      <td>NaN</td>\n",
              "      <td>...</td>\n",
              "      <td>NaN</td>\n",
              "      <td>NaN</td>\n",
              "      <td>NaN</td>\n",
              "      <td>NaN</td>\n",
              "      <td>NaN</td>\n",
              "      <td>NaN</td>\n",
              "      <td>NaN</td>\n",
              "      <td>NaN</td>\n",
              "      <td>NaN</td>\n",
              "      <td>NaN</td>\n",
              "    </tr>\n",
              "    <tr>\n",
              "      <th>1029</th>\n",
              "      <td>NaN</td>\n",
              "      <td>NaN</td>\n",
              "      <td>NaN</td>\n",
              "      <td>NaN</td>\n",
              "      <td>NaN</td>\n",
              "      <td>NaN</td>\n",
              "      <td>NaN</td>\n",
              "      <td>NaN</td>\n",
              "      <td>NaN</td>\n",
              "      <td>NaN</td>\n",
              "      <td>...</td>\n",
              "      <td>NaN</td>\n",
              "      <td>NaN</td>\n",
              "      <td>NaN</td>\n",
              "      <td>NaN</td>\n",
              "      <td>NaN</td>\n",
              "      <td>NaN</td>\n",
              "      <td>NaN</td>\n",
              "      <td>NaN</td>\n",
              "      <td>NaN</td>\n",
              "      <td>NaN</td>\n",
              "    </tr>\n",
              "    <tr>\n",
              "      <th>1030</th>\n",
              "      <td>NaN</td>\n",
              "      <td>NaN</td>\n",
              "      <td>NaN</td>\n",
              "      <td>NaN</td>\n",
              "      <td>NaN</td>\n",
              "      <td>NaN</td>\n",
              "      <td>NaN</td>\n",
              "      <td>NaN</td>\n",
              "      <td>NaN</td>\n",
              "      <td>NaN</td>\n",
              "      <td>...</td>\n",
              "      <td>NaN</td>\n",
              "      <td>NaN</td>\n",
              "      <td>NaN</td>\n",
              "      <td>NaN</td>\n",
              "      <td>NaN</td>\n",
              "      <td>NaN</td>\n",
              "      <td>NaN</td>\n",
              "      <td>NaN</td>\n",
              "      <td>NaN</td>\n",
              "      <td>NaN</td>\n",
              "    </tr>\n",
              "  </tbody>\n",
              "</table>\n",
              "<p>1031 rows × 24 columns</p>\n",
              "</div>\n",
              "      <button class=\"colab-df-convert\" onclick=\"convertToInteractive('df-c7ddeaf6-ff82-43b1-8a1c-63ae13a5ee45')\"\n",
              "              title=\"Convert this dataframe to an interactive table.\"\n",
              "              style=\"display:none;\">\n",
              "        \n",
              "  <svg xmlns=\"http://www.w3.org/2000/svg\" height=\"24px\"viewBox=\"0 0 24 24\"\n",
              "       width=\"24px\">\n",
              "    <path d=\"M0 0h24v24H0V0z\" fill=\"none\"/>\n",
              "    <path d=\"M18.56 5.44l.94 2.06.94-2.06 2.06-.94-2.06-.94-.94-2.06-.94 2.06-2.06.94zm-11 1L8.5 8.5l.94-2.06 2.06-.94-2.06-.94L8.5 2.5l-.94 2.06-2.06.94zm10 10l.94 2.06.94-2.06 2.06-.94-2.06-.94-.94-2.06-.94 2.06-2.06.94z\"/><path d=\"M17.41 7.96l-1.37-1.37c-.4-.4-.92-.59-1.43-.59-.52 0-1.04.2-1.43.59L10.3 9.45l-7.72 7.72c-.78.78-.78 2.05 0 2.83L4 21.41c.39.39.9.59 1.41.59.51 0 1.02-.2 1.41-.59l7.78-7.78 2.81-2.81c.8-.78.8-2.07 0-2.86zM5.41 20L4 18.59l7.72-7.72 1.47 1.35L5.41 20z\"/>\n",
              "  </svg>\n",
              "      </button>\n",
              "      \n",
              "  <style>\n",
              "    .colab-df-container {\n",
              "      display:flex;\n",
              "      flex-wrap:wrap;\n",
              "      gap: 12px;\n",
              "    }\n",
              "\n",
              "    .colab-df-convert {\n",
              "      background-color: #E8F0FE;\n",
              "      border: none;\n",
              "      border-radius: 50%;\n",
              "      cursor: pointer;\n",
              "      display: none;\n",
              "      fill: #1967D2;\n",
              "      height: 32px;\n",
              "      padding: 0 0 0 0;\n",
              "      width: 32px;\n",
              "    }\n",
              "\n",
              "    .colab-df-convert:hover {\n",
              "      background-color: #E2EBFA;\n",
              "      box-shadow: 0px 1px 2px rgba(60, 64, 67, 0.3), 0px 1px 3px 1px rgba(60, 64, 67, 0.15);\n",
              "      fill: #174EA6;\n",
              "    }\n",
              "\n",
              "    [theme=dark] .colab-df-convert {\n",
              "      background-color: #3B4455;\n",
              "      fill: #D2E3FC;\n",
              "    }\n",
              "\n",
              "    [theme=dark] .colab-df-convert:hover {\n",
              "      background-color: #434B5C;\n",
              "      box-shadow: 0px 1px 3px 1px rgba(0, 0, 0, 0.15);\n",
              "      filter: drop-shadow(0px 1px 2px rgba(0, 0, 0, 0.3));\n",
              "      fill: #FFFFFF;\n",
              "    }\n",
              "  </style>\n",
              "\n",
              "      <script>\n",
              "        const buttonEl =\n",
              "          document.querySelector('#df-c7ddeaf6-ff82-43b1-8a1c-63ae13a5ee45 button.colab-df-convert');\n",
              "        buttonEl.style.display =\n",
              "          google.colab.kernel.accessAllowed ? 'block' : 'none';\n",
              "\n",
              "        async function convertToInteractive(key) {\n",
              "          const element = document.querySelector('#df-c7ddeaf6-ff82-43b1-8a1c-63ae13a5ee45');\n",
              "          const dataTable =\n",
              "            await google.colab.kernel.invokeFunction('convertToInteractive',\n",
              "                                                     [key], {});\n",
              "          if (!dataTable) return;\n",
              "\n",
              "          const docLinkHtml = 'Like what you see? Visit the ' +\n",
              "            '<a target=\"_blank\" href=https://colab.research.google.com/notebooks/data_table.ipynb>data table notebook</a>'\n",
              "            + ' to learn more about interactive tables.';\n",
              "          element.innerHTML = '';\n",
              "          dataTable['output_type'] = 'display_data';\n",
              "          await google.colab.output.renderOutput(dataTable, element);\n",
              "          const docLink = document.createElement('div');\n",
              "          docLink.innerHTML = docLinkHtml;\n",
              "          element.appendChild(docLink);\n",
              "        }\n",
              "      </script>\n",
              "    </div>\n",
              "  </div>\n",
              "  "
            ]
          },
          "metadata": {},
          "execution_count": 3
        }
      ],
      "source": [
        "z = \"/content/drive/MyDrive/DiZyme_jan2022.csv\"\n",
        "data = pd.read_csv(z, header = 0, delimiter = ',')\n",
        "data"
      ]
    },
    {
      "cell_type": "code",
      "execution_count": null,
      "metadata": {
        "id": "fG82g9qXPQ30"
      },
      "outputs": [],
      "source": [
        "predictors = pd.DataFrame(data.drop([\"Km\", \"Kcat\", \"Vmax\"], axis=1))\n",
        "y = pd.DataFrame(data[[\"Km\", \"Kcat\", \"Vmax\"]])"
      ]
    },
    {
      "cell_type": "code",
      "execution_count": null,
      "metadata": {
        "id": "PQqMacJQykYs"
      },
      "outputs": [],
      "source": [
        "correl = predictors.corr(method='pearson')\n",
        "correl"
      ]
    },
    {
      "cell_type": "code",
      "execution_count": null,
      "metadata": {
        "id": "Aj7sW6bWSsVn"
      },
      "outputs": [],
      "source": [
        "n = correl.columns\n",
        "a = []\n",
        "b = []\n",
        "for i in range(0, len(n)-1):\n",
        "    for j in range(0, len(n)-1):\n",
        "        if i!=j:\n",
        "          if correl.iat[i,j] > 0.9:\n",
        "            a.append(i)\n",
        "            b.append(j)\n",
        "            print(n[i],n[j])\n",
        "          else:\n",
        "            continue\n",
        "          c = sorted(b)\n",
        "        else:\n",
        "          continue\n",
        "print(a, c)\n",
        "for i in range(len(a)-1):\n",
        "  if a[i] == c[i]:\n",
        "    if len(a)==2:\n",
        "      n = correl.columns\n",
        "      predictors_without_correl = predictors.drop([n[a[1]]], axis=1)\n",
        "print(predictors_without_correl)"
      ]
    },
    {
      "cell_type": "code",
      "execution_count": null,
      "metadata": {
        "id": "mVAwIZPnVYV3"
      },
      "outputs": [],
      "source": [
        "x = predictors_without_correl.dropna()\n",
        "x"
      ]
    },
    {
      "cell_type": "code",
      "execution_count": null,
      "metadata": {
        "id": "1APhq3btXGdV"
      },
      "outputs": [],
      "source": [
        "# Вопрос к собратьям:\n",
        "# Как сделать такую функцию : Если NaN встречается в строке больше раз чем половина количества предикторов в строке, удалить эту строчку.\n",
        "# ответ от коллеги: df.col.dropna(thresh = n), n = len(pred)/2"
      ]
    },
    {
      "cell_type": "code",
      "execution_count": null,
      "metadata": {
        "colab": {
          "base_uri": "https://localhost:8080/"
        },
        "id": "7zFuwmCUbPJN",
        "outputId": "5984ff11-0b74-4818-a18b-70781bd42af2"
      },
      "outputs": [
        {
          "output_type": "stream",
          "name": "stdout",
          "text": [
            "[0, 1, 2, 8] [3, 4, 5, 6, 7, 9, 10, 11, 12, 13, 14, 15, 16, 17, 18]\n"
          ]
        }
      ],
      "source": [
        "#[dtype('O'), dtype('float64')]\n",
        "nn = x.columns\n",
        "c = []\n",
        "d = []\n",
        "result = list(x.dtypes)\n",
        "for i in range(0, len(nn)-1):\n",
        "  if result[i] == 'O':\n",
        "    c.append(i)\n",
        "  elif result[i] == 'float64':\n",
        "    d.append(i)\n",
        "print(c,d)"
      ]
    },
    {
      "cell_type": "code",
      "execution_count": null,
      "metadata": {
        "id": "_mKYrSDhrxh6",
        "colab": {
          "base_uri": "https://localhost:8080/"
        },
        "outputId": "46cfc88e-146c-440f-90d2-49c0479971c4"
      },
      "outputs": [
        {
          "output_type": "stream",
          "name": "stdout",
          "text": [
            "     formula    activity surface Subtype\n",
            "0    CoFe2O4  peroxidase   naked     TMB\n",
            "1    CoFe2O4  peroxidase   naked     TMB\n",
            "2    CoFe2O4  peroxidase   naked     TMB\n",
            "3    CoFe2O4  peroxidase   naked     TMB\n",
            "4    CoFe2O4  peroxidase   naked    H2O2\n",
            "..       ...         ...     ...     ...\n",
            "298    Mn3O4    catalase   naked    H2O2\n",
            "299    Mn3O4    catalase   naked    H2O2\n",
            "300    Mn3O4    catalase   naked    H2O2\n",
            "301    Mn3O4    catalase   naked    H2O2\n",
            "302     RuO2    catalase   naked    H2O2\n",
            "\n",
            "[303 rows x 4 columns]\n"
          ]
        }
      ],
      "source": [
        "object_datasetl = x\n",
        "for i in range(0,len(d)):\n",
        "    object_datasetl = pd.DataFrame(object_datasetl.drop([nn[d[i]]], axis=1))\n",
        "object_dataset = object_datasetl.drop([\"link\"], axis=1)\n",
        "print(object_dataset)"
      ]
    },
    {
      "cell_type": "code",
      "source": [
        "object_dataset"
      ],
      "metadata": {
        "id": "Tz_qNMC45h9j"
      },
      "execution_count": null,
      "outputs": []
    },
    {
      "cell_type": "code",
      "source": [
        "def indexer(column, name_of_col = 'smth'):\n",
        "    try: \n",
        "        for i in column.tolist(): float(i)\n",
        "        pass\n",
        "    except:\n",
        "        if type(column) == type(pd.Series()) or type(column) == type(pd.DataFrame()):\n",
        "            col_dc = {}\n",
        "            uniq_ls = column.unique()\n",
        "            for k in range(len(uniq_ls)): col_dc[uniq_ls[k]] = k\n",
        "            col_list = column.tolist()\n",
        "            for key, value in col_dc.items(): \n",
        "                for k in range(len(col_list)): col_list[k] = value if col_list[k]  == key else col_list[k]\n",
        "            col_ser = pd.Series(col_list, name= f'{name_of_col}_id')\n",
        "            return col_ser\n",
        "        else:\n",
        "            print('this is not pandas series')\n",
        "            print(type(column))"
      ],
      "metadata": {
        "id": "uqZIGdqA1BWx"
      },
      "execution_count": null,
      "outputs": []
    },
    {
      "cell_type": "code",
      "source": [
        "l = object_dataset.columns\n",
        "my_series = object_dataset[[l[0]]].squeeze()\n",
        "\n",
        "object_column_to_int = indexer(my_series)\n",
        "object_dataframe = pd.DataFrame(object_column_to_int)\n",
        "for i in range(1,len(l)):\n",
        "    my_series = object_dataset[[l[i]]].squeeze()\n",
        "    object_column_to_int = pd.DataFrame(indexer(my_series, l[i]))\n",
        "    object_dataframe = object_dataframe.merge(object_column_to_int, left_index = True, right_index = True)\n",
        "object_dataframe"
      ],
      "metadata": {
        "id": "j8EMIhTU4U0k"
      },
      "execution_count": null,
      "outputs": []
    },
    {
      "cell_type": "code",
      "execution_count": null,
      "metadata": {
        "id": "jPJ6EfZsvnIU"
      },
      "outputs": [],
      "source": [
        "float_datasetl = x\n",
        "for i in range(0,len(c)):\n",
        "    float_datasetl = pd.DataFrame(float_datasetl.drop([nn[c[i]]], axis=1))\n",
        "float_dataset = pd.DataFrame(float_datasetl.drop([\"link\"], axis=1))\n",
        "print(float_dataset)"
      ]
    },
    {
      "cell_type": "code",
      "source": [
        ""
      ],
      "metadata": {
        "id": "99TYWnH_7H3E"
      },
      "execution_count": null,
      "outputs": []
    },
    {
      "cell_type": "code",
      "execution_count": null,
      "metadata": {
        "id": "aUOo5dIEwjMY"
      },
      "outputs": [],
      "source": [
        "# корреляционная матрица\n",
        "float_dataset.corr(method='pearson')"
      ]
    },
    {
      "cell_type": "code",
      "execution_count": null,
      "metadata": {
        "id": "As4AluOKwDnU"
      },
      "outputs": [],
      "source": [
        "from sklearn.decomposition import PCA\n",
        "pca = PCA(n_components=10, svd_solver='auto')\n",
        "float_dataset_pca = pd.DataFrame(pca.fit(float_dataset).transform(float_dataset))"
      ]
    },
    {
      "cell_type": "code",
      "source": [
        "float_dataset_pca"
      ],
      "metadata": {
        "id": "wyWon1I7YEdN"
      },
      "execution_count": null,
      "outputs": []
    },
    {
      "cell_type": "code",
      "source": [
        "import matplotlib.pyplot as plt\n",
        "import matplotlib\n",
        "import matplotlib.pyplot as plt\n",
        "import pandas as pd\n",
        "%matplotlib inline"
      ],
      "metadata": {
        "id": "AFYE9yPvWpLC"
      },
      "execution_count": null,
      "outputs": []
    },
    {
      "cell_type": "code",
      "source": [
        "plt.plot(float_dataset_pca[:100, 0], float_dataset_pca[:100, 1], 'o', markerfacecolor='red', markeredgecolor='k', markersize=8)\n"
      ],
      "metadata": {
        "id": "udXMgxM8XHrs"
      },
      "execution_count": null,
      "outputs": []
    },
    {
      "cell_type": "code",
      "execution_count": null,
      "metadata": {
        "id": "jrvMpEM9x6gS"
      },
      "outputs": [],
      "source": [
        "import pandas as pd\n",
        "import numpy as np\n",
        "from sklearn.feature_selection import SelectKBest\n",
        "from sklearn.feature_selection import chi2"
      ]
    },
    {
      "cell_type": "code",
      "execution_count": null,
      "metadata": {
        "id": "J-efuWCEx7-j"
      },
      "outputs": [],
      "source": [
        "result = object_dataset.merge(float_dataset_pca, left_index = True, right_index = True)\n",
        "result"
      ]
    },
    {
      "cell_type": "code",
      "source": [
        "result.iloc[]"
      ],
      "metadata": {
        "id": "zeo43-9_kTVL"
      },
      "execution_count": null,
      "outputs": []
    }
  ],
  "metadata": {
    "colab": {
      "name": "mini-task2",
      "provenance": [],
      "collapsed_sections": [],
      "include_colab_link": true
    },
    "kernelspec": {
      "display_name": "Python 3",
      "name": "python3"
    },
    "language_info": {
      "name": "python"
    }
  },
  "nbformat": 4,
  "nbformat_minor": 0
}